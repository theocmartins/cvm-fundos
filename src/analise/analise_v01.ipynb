{
 "cells": [
  {
   "cell_type": "code",
   "execution_count": 1,
   "metadata": {},
   "outputs": [],
   "source": [
    "\n",
    "import sys\n",
    "import os\n",
    "\n",
    "# Caminho absoluto ou relativo para a pasta externa\n",
    "caminho_externo = os.path.abspath('..')\n",
    "\n",
    "# Adiciona ao sys.path se ainda não estiver lá\n",
    "if caminho_externo not in sys.path:\n",
    "    sys.path.insert(0, caminho_externo)\n"
   ]
  },
  {
   "cell_type": "code",
   "execution_count": 2,
   "metadata": {},
   "outputs": [],
   "source": [
    "from coleta_fundos_cvm import exportar_dados_fundos\n"
   ]
  },
  {
   "cell_type": "code",
   "execution_count": 13,
   "metadata": {},
   "outputs": [
    {
     "name": "stdout",
     "output_type": "stream",
     "text": [
      "Baixando cadastro de fundos...\n",
      "Baixando dados mensais...\n"
     ]
    },
    {
     "name": "stderr",
     "output_type": "stream",
     "text": [
      "  0%|          | 0/1 [00:00<?, ?it/s]"
     ]
    },
    {
     "name": "stdout",
     "output_type": "stream",
     "text": [
      "Baixando dados para o mês: 202409\n"
     ]
    },
    {
     "name": "stderr",
     "output_type": "stream",
     "text": [
      "100%|██████████| 1/1 [00:04<00:00,  4.61s/it]"
     ]
    },
    {
     "name": "stdout",
     "output_type": "stream",
     "text": [
      "Número de linhas em 202409: 538493\n",
      "Criando dataframe consolidado...\n"
     ]
    },
    {
     "name": "stderr",
     "output_type": "stream",
     "text": [
      "\n"
     ]
    },
    {
     "name": "stdout",
     "output_type": "stream",
     "text": [
      "Dados salvos em 'dados/fundos_set_out_2024.csv'\n"
     ]
    }
   ],
   "source": [
    "meses = ['202409']\n",
    "df = exportar_dados_fundos(meses)"
   ]
  },
  {
   "cell_type": "code",
   "execution_count": null,
   "metadata": {},
   "outputs": [
    {
     "data": {
      "text/plain": [
       "552716"
      ]
     },
     "execution_count": 7,
     "metadata": {},
     "output_type": "execute_result"
    }
   ],
   "source": [
    "len(df)\n",
    "#"
   ]
  },
  {
   "cell_type": "code",
   "execution_count": 8,
   "metadata": {},
   "outputs": [
    {
     "data": {
      "text/html": [
       "<div>\n",
       "<style scoped>\n",
       "    .dataframe tbody tr th:only-of-type {\n",
       "        vertical-align: middle;\n",
       "    }\n",
       "\n",
       "    .dataframe tbody tr th {\n",
       "        vertical-align: top;\n",
       "    }\n",
       "\n",
       "    .dataframe thead th {\n",
       "        text-align: right;\n",
       "    }\n",
       "</style>\n",
       "<table border=\"1\" class=\"dataframe\">\n",
       "  <thead>\n",
       "    <tr style=\"text-align: right;\">\n",
       "      <th></th>\n",
       "      <th>data</th>\n",
       "      <th>cnpj</th>\n",
       "      <th>DENOM_SOCIAL</th>\n",
       "      <th>CLASSE</th>\n",
       "      <th>valor_cota</th>\n",
       "      <th>patrimonio</th>\n",
       "      <th>aportes</th>\n",
       "      <th>resgates</th>\n",
       "    </tr>\n",
       "  </thead>\n",
       "  <tbody>\n",
       "    <tr>\n",
       "      <th>0</th>\n",
       "      <td>2024-09-02</td>\n",
       "      <td>00.017.024/0001-53</td>\n",
       "      <td>FIF - CLASSE DE INVESTIMENTO   RENDA FIXA EXPO...</td>\n",
       "      <td>NaN</td>\n",
       "      <td>36.196355</td>\n",
       "      <td>1132671.28</td>\n",
       "      <td>0.0</td>\n",
       "      <td>0.0</td>\n",
       "    </tr>\n",
       "    <tr>\n",
       "      <th>1</th>\n",
       "      <td>2024-09-03</td>\n",
       "      <td>00.017.024/0001-53</td>\n",
       "      <td>FIF - CLASSE DE INVESTIMENTO   RENDA FIXA EXPO...</td>\n",
       "      <td>NaN</td>\n",
       "      <td>36.208897</td>\n",
       "      <td>1133063.75</td>\n",
       "      <td>0.0</td>\n",
       "      <td>0.0</td>\n",
       "    </tr>\n",
       "    <tr>\n",
       "      <th>2</th>\n",
       "      <td>2024-09-04</td>\n",
       "      <td>00.017.024/0001-53</td>\n",
       "      <td>FIF - CLASSE DE INVESTIMENTO   RENDA FIXA EXPO...</td>\n",
       "      <td>NaN</td>\n",
       "      <td>36.220027</td>\n",
       "      <td>1133412.02</td>\n",
       "      <td>0.0</td>\n",
       "      <td>0.0</td>\n",
       "    </tr>\n",
       "    <tr>\n",
       "      <th>3</th>\n",
       "      <td>2024-09-05</td>\n",
       "      <td>00.017.024/0001-53</td>\n",
       "      <td>FIF - CLASSE DE INVESTIMENTO   RENDA FIXA EXPO...</td>\n",
       "      <td>NaN</td>\n",
       "      <td>36.230690</td>\n",
       "      <td>1133745.71</td>\n",
       "      <td>0.0</td>\n",
       "      <td>0.0</td>\n",
       "    </tr>\n",
       "    <tr>\n",
       "      <th>4</th>\n",
       "      <td>2024-09-06</td>\n",
       "      <td>00.017.024/0001-53</td>\n",
       "      <td>FIF - CLASSE DE INVESTIMENTO   RENDA FIXA EXPO...</td>\n",
       "      <td>NaN</td>\n",
       "      <td>36.266524</td>\n",
       "      <td>1134867.03</td>\n",
       "      <td>0.0</td>\n",
       "      <td>0.0</td>\n",
       "    </tr>\n",
       "  </tbody>\n",
       "</table>\n",
       "</div>"
      ],
      "text/plain": [
       "        data                cnpj  \\\n",
       "0 2024-09-02  00.017.024/0001-53   \n",
       "1 2024-09-03  00.017.024/0001-53   \n",
       "2 2024-09-04  00.017.024/0001-53   \n",
       "3 2024-09-05  00.017.024/0001-53   \n",
       "4 2024-09-06  00.017.024/0001-53   \n",
       "\n",
       "                                        DENOM_SOCIAL CLASSE  valor_cota  \\\n",
       "0  FIF - CLASSE DE INVESTIMENTO   RENDA FIXA EXPO...    NaN   36.196355   \n",
       "1  FIF - CLASSE DE INVESTIMENTO   RENDA FIXA EXPO...    NaN   36.208897   \n",
       "2  FIF - CLASSE DE INVESTIMENTO   RENDA FIXA EXPO...    NaN   36.220027   \n",
       "3  FIF - CLASSE DE INVESTIMENTO   RENDA FIXA EXPO...    NaN   36.230690   \n",
       "4  FIF - CLASSE DE INVESTIMENTO   RENDA FIXA EXPO...    NaN   36.266524   \n",
       "\n",
       "   patrimonio  aportes  resgates  \n",
       "0  1132671.28      0.0       0.0  \n",
       "1  1133063.75      0.0       0.0  \n",
       "2  1133412.02      0.0       0.0  \n",
       "3  1133745.71      0.0       0.0  \n",
       "4  1134867.03      0.0       0.0  "
      ]
     },
     "execution_count": 8,
     "metadata": {},
     "output_type": "execute_result"
    }
   ],
   "source": [
    "df.head()"
   ]
  },
  {
   "cell_type": "code",
   "execution_count": 14,
   "metadata": {},
   "outputs": [
    {
     "data": {
      "text/plain": [
       "data            datetime64[ns]\n",
       "cnpj                    object\n",
       "DENOM_SOCIAL            object\n",
       "CLASSE                  object\n",
       "valor_cota             float64\n",
       "patrimonio             float64\n",
       "aportes                float64\n",
       "resgates               float64\n",
       "dtype: object"
      ]
     },
     "execution_count": 14,
     "metadata": {},
     "output_type": "execute_result"
    }
   ],
   "source": [
    "df.dtypes"
   ]
  },
  {
   "cell_type": "code",
   "execution_count": 15,
   "metadata": {},
   "outputs": [
    {
     "data": {
      "image/png": "[encoded data removed]",
      "text/plain": [
       "<Figure size 1000x600 with 1 Axes>"
      ]
     },
     "metadata": {},
     "output_type": "display_data"
    }
   ],
   "source": [
    "import pandas as pd\n",
    "import matplotlib.pyplot as plt\n",
    "\n",
    "# Exemplo de DataFrame com uma coluna de datas\n",
    "data = {\n",
    "    'data_evento': [\n",
    "        '2024-05-01', '2024-05-01', '2024-05-02', '2024-05-02',\n",
    "        '2024-05-02', '2024-05-03', '2024-05-04', '2024-05-04',\n",
    "        '2024-05-04', '2024-05-04'\n",
    "    ]\n",
    "}\n",
    "\n",
    "\n",
    "\n",
    "\n",
    "\n",
    "# Contar a frequência de eventos por data\n",
    "frequencia = df['data'].value_counts().sort_index()\n",
    "\n",
    "# Plotar o gráfico de barras\n",
    "plt.figure(figsize=(10, 6))\n",
    "frequencia.plot(kind='bar', color='skyblue')\n",
    "plt.title('Frequência de eventos por data')\n",
    "plt.xlabel('Data')\n",
    "plt.ylabel('Número de eventos')\n",
    "plt.xticks(rotation=45)\n",
    "plt.tight_layout()\n",
    "plt.show()\n"
   ]
  },
  {
   "cell_type": "code",
   "execution_count": null,
   "metadata": {},
   "outputs": [],
   "source": []
  }
 ],
 "metadata": {
  "kernelspec": {
   "display_name": "Python 3",
   "language": "python",
   "name": "python3"
  },
  "language_info": {
   "codemirror_mode": {
    "name": "ipython",
    "version": 3
   },
   "file_extension": ".py",
   "mimetype": "text/x-python",
   "name": "python",
   "nbconvert_exporter": "python",
   "pygments_lexer": "ipython3",
   "version": "3.13.2"
  }
 },
 "nbformat": 4,
 "nbformat_minor": 2
}
